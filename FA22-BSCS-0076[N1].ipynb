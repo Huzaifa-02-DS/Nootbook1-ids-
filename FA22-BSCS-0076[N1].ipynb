{
 "cells": [
  {
   "cell_type": "markdown",
   "id": "ac08b6d8-a053-4f04-8c72-b1768528bc07",
   "metadata": {},
   "source": [
    "# Data Science Tools (Notebook 1)"
   ]
  },
  {
   "cell_type": "markdown",
   "id": "9dd818df-00cb-437f-a0b8-5446b8da6dce",
   "metadata": {},
   "source": [
    "## Introduction."
   ]
  },
  {
   "cell_type": "raw",
   "id": "53492b8e-6da0-4356-af60-585816ac6112",
   "metadata": {},
   "source": [
    "In this notebook, we will explore various tools and techniques used in the field of Data Science. Topics include popular programming languages, libraries, arithmetic operations, and more."
   ]
  },
  {
   "cell_type": "markdown",
   "id": "8fc28920-283e-4e3a-ad0f-f7f356f808c9",
   "metadata": {},
   "source": [
    "## Data Science Languages\n",
    "* Python\n",
    "* R\n",
    "* SQL\n",
    "* Julia\n",
    "* Scala"
   ]
  },
  {
   "cell_type": "markdown",
   "id": "15e43540-42a5-4e99-ae32-cf86c258e5a7",
   "metadata": {},
   "source": [
    "## Data Science Libraries\n",
    "* Numpy\n",
    "* Pandas\n",
    "* Matplotlib\n",
    "* Seaborn\n",
    "* Ctgan\n",
    "* Sckit-learn\n",
    "* Tensor flow\n",
    "* Keras "
   ]
  },
  {
   "cell_type": "markdown",
   "id": "32124b82-7fcd-4d8f-98ee-ba0e16723787",
   "metadata": {},
   "source": [
    "## Data Science Tools"
   ]
  },
  {
   "cell_type": "markdown",
   "id": "44b56a46-a5b4-432c-a024-dea0ba4ef562",
   "metadata": {},
   "source": [
    "|   Tools         |  Description                |\n",
    "|----------------:|-----------------------------|\n",
    "|Jupyter Notebook |Intractive Coding Environment|\n",
    "|Rstudio          |IDE for R language           |\n",
    "|Apache Spark     |Big data Processing framework|\n",
    "|Tableau          |Data Visualization Tools     |\n",
    "|Vs Code          |Code editor with extentions  |    "
   ]
  },
  {
   "cell_type": "markdown",
   "id": "d2caa83c-67a9-4b66-91bf-e0d47a12c4c4",
   "metadata": {},
   "source": [
    "## Arithematic Operation Example"
   ]
  },
  {
   "cell_type": "raw",
   "id": "a8116339-436e-470e-836e-11c514c6f570",
   "metadata": {},
   "source": [
    "Below are examples of simple arithmetic expressions such as addition and multiplication."
   ]
  },
  {
   "cell_type": "markdown",
   "id": "eeb8214c-f263-41e4-a94c-c84c6f7e44b9",
   "metadata": {},
   "source": [
    "## Multiple And Add numbers"
   ]
  },
  {
   "cell_type": "code",
   "execution_count": 31,
   "id": "bd616829-f9d8-4b0a-9b2c-ec5f6fa7c261",
   "metadata": {},
   "outputs": [
    {
     "data": {
      "text/plain": [
       "17"
      ]
     },
     "execution_count": 31,
     "metadata": {},
     "output_type": "execute_result"
    }
   ],
   "source": [
    "(3 * 4) + 5"
   ]
  },
  {
   "cell_type": "markdown",
   "id": "59c498e8-d24b-4398-aa9f-27306291bd57",
   "metadata": {},
   "source": [
    "## Convert min into Hours"
   ]
  },
  {
   "cell_type": "code",
   "execution_count": 34,
   "id": "9623c0a5-6f0d-427a-955f-a69ee6d61a7d",
   "metadata": {},
   "outputs": [
    {
     "data": {
      "text/plain": [
       "3.0"
      ]
     },
     "execution_count": 34,
     "metadata": {},
     "output_type": "execute_result"
    }
   ],
   "source": [
    "mins = 180\n",
    "hours = mins/60\n",
    "hours"
   ]
  },
  {
   "cell_type": "markdown",
   "id": "70bc4aec-6409-4191-a92b-6844af907934",
   "metadata": {},
   "source": [
    "## Objectives\n",
    "* Extract meaningful insights from data.\n",
    "* Identify patterns and trends in large datasets.\n",
    "* Build predictive models using machine learning.\n",
    "* Support data driven decision making.\n",
    "* Automotive progress using algorithms.\n",
    "* Communicate finding through visualization and reports.\n",
    "* Improve buisness effectively and innovation."
   ]
  },
  {
   "cell_type": "markdown",
   "id": "64c7756a-6f9b-48a7-a10e-a06cf0e72ba9",
   "metadata": {},
   "source": [
    "## Author\n",
    "Huzaifa Asif Ali"
   ]
  },
  {
   "cell_type": "code",
   "execution_count": null,
   "id": "4fba2f80-2a1b-4b75-a191-da6f01dca185",
   "metadata": {},
   "outputs": [],
   "source": []
  }
 ],
 "metadata": {
  "kernelspec": {
   "display_name": "Python [conda env:base] *",
   "language": "python",
   "name": "conda-base-py"
  },
  "language_info": {
   "codemirror_mode": {
    "name": "ipython",
    "version": 3
   },
   "file_extension": ".py",
   "mimetype": "text/x-python",
   "name": "python",
   "nbconvert_exporter": "python",
   "pygments_lexer": "ipython3",
   "version": "3.12.7"
  }
 },
 "nbformat": 4,
 "nbformat_minor": 5
}
